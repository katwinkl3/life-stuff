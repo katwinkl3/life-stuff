{
 "cells": [
  {
   "cell_type": "markdown",
   "metadata": {},
   "source": [
    "### Month against sum"
   ]
  },
  {
   "cell_type": "code",
   "execution_count": 14,
   "metadata": {},
   "outputs": [
    {
     "name": "stdout",
     "output_type": "stream",
     "text": [
      "Initial 0\n"
     ]
    }
   ],
   "source": [
    "from datetime import datetime\n",
    "from dateutil.relativedelta import relativedelta\n",
    "\n",
    "initial = 0\n",
    "months = 36\n",
    "inf = float('inf')\n",
    "net_gain = 0\n",
    "curr_time = datetime.now()\n",
    "bank_base = {\"DBS\": [0,50000,100000,inf], \n",
    "             \"DBS_bare\": [0,10000, inf], \n",
    "             \"UOB\":[0,15000,30000,45000,60000,75000, inf], \n",
    "             \"OCBC_bare\":[0, 25000, 50000, 75000, inf], \n",
    "             \"SC\":[0, 80000,inf]}\n",
    "bank_int = {\"DBS\": [0.008,0.016,0.0005],\n",
    "            \"DBS_bare\": [0.004,0.0005], \n",
    "            \"UOB\":[0.005, 0.0055,0.0065,0.008,0.025,0.005],\n",
    "            \"OCBC_bare\":[0.0045, 0.0085, 0.021,0.0005], \n",
    "            \"SC\":[0.0038,0.0001]} # p.a. compounded monthly\n",
    "bank_min_amt_rate = {\"OCBC_bare\":[\"base>=200000\", 0.004, \"75000\"]} # condition, int, eligible amt\n",
    "banks = [\"DBS\", \"DBS_bare\", \"UOB\", \"OCBC_bare\", \"SC\"]\n",
    "# banks = [\"OCBC_bare\"]\n",
    "data_pts = dict(zip(banks,[[] for _ in range(len(banks))]))\n",
    "\n",
    "def get_time_months_away(m):\n",
    "    t = datetime.now() + relativedelta(months=+m)\n",
    "    return datetime.strptime(str((t.month%12)+1),\"%m\").strftime(\"%B\") + \" \" + str(t.year)\n",
    "def get_savings_per_month():\n",
    "    print(\"Initial\", initial)\n",
    "    for b in banks:\n",
    "        base = initial\n",
    "        ints = [i/12 for i in bank_int[b]]\n",
    "        for m in range(months):\n",
    "            res = 0\n",
    "            if b in bank_min_amt_rate and eval(bank_min_amt_rate[b][0]):\n",
    "                res += bank_min_amt_rate[b][1]*eval(bank_min_amt_rate[b][2])\n",
    "            res += sum([max(0, min(base, bank_base[b][i+1])-bank_base[b][i]) * ints[i] for i in range(len(bank_int[b]))])\n",
    "            base += (res+net_gain)\n",
    "            data_pts[b].append(base)\n",
    "#             print(b, get_time?_months_away(m), \":\", base)\n",
    "            \n",
    "get_savings_per_month()"
   ]
  },
  {
   "cell_type": "code",
   "execution_count": 15,
   "metadata": {
    "collapsed": true
   },
   "outputs": [
    {
     "data": {
      "text/plain": [
       "<matplotlib.legend.Legend at 0x11748688>"
      ]
     },
     "execution_count": 15,
     "metadata": {},
     "output_type": "execute_result"
    },
    {
     "data": {
      "image/png": "[encoded data removed]",
      "text/plain": [
       "<Figure size 1200x640 with 1 Axes>"
      ]
     },
     "metadata": {
      "needs_background": "light"
     },
     "output_type": "display_data"
    }
   ],
   "source": [
    "import matplotlib.pyplot as plt\n",
    "from matplotlib.pyplot import figure\n",
    "figure(figsize=(15, 8), dpi=80)\n",
    "for k, v in data_pts.items():\n",
    "    plt.plot(range(1, len(v) + 1), v, '.-', label=k)\n",
    "#     plt.text(a, b, str(b))\n",
    "plt.legend(loc='lower right')"
   ]
  },
  {
   "cell_type": "code",
   "execution_count": null,
   "metadata": {},
   "outputs": [],
   "source": []
  }
 ],
 "metadata": {
  "kernelspec": {
   "display_name": "Python 3",
   "language": "python",
   "name": "python3"
  },
  "language_info": {
   "codemirror_mode": {
    "name": "ipython",
    "version": 3
   },
   "file_extension": ".py",
   "mimetype": "text/x-python",
   "name": "python",
   "nbconvert_exporter": "python",
   "pygments_lexer": "ipython3",
   "version": "3.8.5"
  }
 },
 "nbformat": 4,
 "nbformat_minor": 4
}
